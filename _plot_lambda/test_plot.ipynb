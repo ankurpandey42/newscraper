{
 "cells": [
  {
   "cell_type": "code",
   "execution_count": 4,
   "metadata": {},
   "outputs": [],
   "source": [
    "%matplotlib inline"
   ]
  },
  {
   "cell_type": "code",
   "execution_count": 29,
   "metadata": {},
   "outputs": [
    {
     "name": "stderr",
     "output_type": "stream",
     "text": [
      "/usr/local/lib/python3.5/dist-packages/ipykernel_launcher.py:8: UserWarning: \n",
      "This call to matplotlib.use() has no effect because the backend has already\n",
      "been chosen; matplotlib.use() must be called *before* pylab, matplotlib.pyplot,\n",
      "or matplotlib.backends is imported for the first time.\n",
      "\n",
      "The backend was *originally* set to 'module://ipykernel.pylab.backend_inline' by the following code:\n",
      "  File \"/usr/lib/python3.5/runpy.py\", line 184, in _run_module_as_main\n",
      "    \"__main__\", mod_spec)\n",
      "  File \"/usr/lib/python3.5/runpy.py\", line 85, in _run_code\n",
      "    exec(code, run_globals)\n",
      "  File \"/usr/local/lib/python3.5/dist-packages/ipykernel_launcher.py\", line 16, in <module>\n",
      "    app.launch_new_instance()\n",
      "  File \"/usr/local/lib/python3.5/dist-packages/traitlets/config/application.py\", line 658, in launch_instance\n",
      "    app.start()\n",
      "  File \"/usr/local/lib/python3.5/dist-packages/ipykernel/kernelapp.py\", line 477, in start\n",
      "    ioloop.IOLoop.instance().start()\n",
      "  File \"/usr/local/lib/python3.5/dist-packages/zmq/eventloop/ioloop.py\", line 177, in start\n",
      "    super(ZMQIOLoop, self).start()\n",
      "  File \"/usr/local/lib/python3.5/dist-packages/tornado/ioloop.py\", line 888, in start\n",
      "    handler_func(fd_obj, events)\n",
      "  File \"/usr/local/lib/python3.5/dist-packages/tornado/stack_context.py\", line 277, in null_wrapper\n",
      "    return fn(*args, **kwargs)\n",
      "  File \"/usr/local/lib/python3.5/dist-packages/zmq/eventloop/zmqstream.py\", line 440, in _handle_events\n",
      "    self._handle_recv()\n",
      "  File \"/usr/local/lib/python3.5/dist-packages/zmq/eventloop/zmqstream.py\", line 472, in _handle_recv\n",
      "    self._run_callback(callback, msg)\n",
      "  File \"/usr/local/lib/python3.5/dist-packages/zmq/eventloop/zmqstream.py\", line 414, in _run_callback\n",
      "    callback(*args, **kwargs)\n",
      "  File \"/usr/local/lib/python3.5/dist-packages/tornado/stack_context.py\", line 277, in null_wrapper\n",
      "    return fn(*args, **kwargs)\n",
      "  File \"/usr/local/lib/python3.5/dist-packages/ipykernel/kernelbase.py\", line 283, in dispatcher\n",
      "    return self.dispatch_shell(stream, msg)\n",
      "  File \"/usr/local/lib/python3.5/dist-packages/ipykernel/kernelbase.py\", line 235, in dispatch_shell\n",
      "    handler(stream, idents, msg)\n",
      "  File \"/usr/local/lib/python3.5/dist-packages/ipykernel/kernelbase.py\", line 399, in execute_request\n",
      "    user_expressions, allow_stdin)\n",
      "  File \"/usr/local/lib/python3.5/dist-packages/ipykernel/ipkernel.py\", line 196, in do_execute\n",
      "    res = shell.run_cell(code, store_history=store_history, silent=silent)\n",
      "  File \"/usr/local/lib/python3.5/dist-packages/ipykernel/zmqshell.py\", line 533, in run_cell\n",
      "    return super(ZMQInteractiveShell, self).run_cell(*args, **kwargs)\n",
      "  File \"/usr/local/lib/python3.5/dist-packages/IPython/core/interactiveshell.py\", line 2728, in run_cell\n",
      "    interactivity=interactivity, compiler=compiler, result=result)\n",
      "  File \"/usr/local/lib/python3.5/dist-packages/IPython/core/interactiveshell.py\", line 2856, in run_ast_nodes\n",
      "    if self.run_code(code, result):\n",
      "  File \"/usr/local/lib/python3.5/dist-packages/IPython/core/interactiveshell.py\", line 2910, in run_code\n",
      "    exec(code_obj, self.user_global_ns, self.user_ns)\n",
      "  File \"<ipython-input-4-9e3324102725>\", line 1, in <module>\n",
      "    get_ipython().run_line_magic('matplotlib', 'inline')\n",
      "  File \"/usr/local/lib/python3.5/dist-packages/IPython/core/interactiveshell.py\", line 2095, in run_line_magic\n",
      "    result = fn(*args,**kwargs)\n",
      "  File \"<decorator-gen-107>\", line 2, in matplotlib\n",
      "  File \"/usr/local/lib/python3.5/dist-packages/IPython/core/magic.py\", line 187, in <lambda>\n",
      "    call = lambda f, *a, **k: f(*a, **k)\n",
      "  File \"/usr/local/lib/python3.5/dist-packages/IPython/core/magics/pylab.py\", line 99, in matplotlib\n",
      "    gui, backend = self.shell.enable_matplotlib(args.gui)\n",
      "  File \"/usr/local/lib/python3.5/dist-packages/IPython/core/interactiveshell.py\", line 2978, in enable_matplotlib\n",
      "    pt.activate_matplotlib(backend)\n",
      "  File \"/usr/local/lib/python3.5/dist-packages/IPython/core/pylabtools.py\", line 308, in activate_matplotlib\n",
      "    matplotlib.pyplot.switch_backend(backend)\n",
      "  File \"/usr/local/lib/python3.5/dist-packages/matplotlib/pyplot.py\", line 229, in switch_backend\n",
      "    matplotlib.use(newbackend, warn=False, force=True)\n",
      "  File \"/usr/local/lib/python3.5/dist-packages/matplotlib/__init__.py\", line 1305, in use\n",
      "    reload(sys.modules['matplotlib.backends'])\n",
      "  File \"/usr/lib/python3.5/importlib/__init__.py\", line 166, in reload\n",
      "    _bootstrap._exec(spec, module)\n",
      "  File \"/usr/local/lib/python3.5/dist-packages/matplotlib/backends/__init__.py\", line 14, in <module>\n",
      "    line for line in traceback.format_stack()\n",
      "\n",
      "\n",
      "  \n"
     ]
    }
   ],
   "source": [
    "\"\"\"\n",
    "\n",
    "\n",
    "\"\"\"\n",
    "import json\n",
    "import boto3\n",
    "import matplotlib\n",
    "matplotlib.use('Agg')\n",
    "import matplotlib.pyplot as plt\n",
    "\n",
    "import numpy as np\n",
    "# import seaborn as sns\n",
    "\n",
    "np.set_printoptions(precision=3)"
   ]
  },
  {
   "cell_type": "code",
   "execution_count": 32,
   "metadata": {},
   "outputs": [],
   "source": [
    "def plot(json_results, url, name_clean):\n",
    "\n",
    "    results_ = {k: v for k, v in json_results.items()}\n",
    "    print(results_)\n",
    "\n",
    "    def get_spectrum(spec, name, colors):\n",
    "        spec = dict(zip(spec, range(len(spec))))\n",
    "        y, x = list(\n",
    "            zip(*sorted(filter(lambda kv: kv[0] in spec, results_.items()), key=lambda kv: spec[kv[0]])))\n",
    "        ''' remove denoiseing until new baseline is calculated '''\n",
    "        make_fig(x, y, name, colors)\n",
    "\n",
    "    # sns.set(style='whitegrid', font='Tahoma', font_scale=1.7)\n",
    "\n",
    "    def label_cleaner(y):\n",
    "        key = {\n",
    "            'fakenews': 'fake news',\n",
    "            'pro-science': 'scientific',\n",
    "            'extremeright': 'extreme right',\n",
    "            'extremeleft': 'extreme left',\n",
    "            'right-center': 'right of center',\n",
    "            'left-center': 'left of center',\n",
    "            'very high': 'very high accuracy',\n",
    "            'high': 'high accuracy',\n",
    "            'mixed': 'muddled accuracy',\n",
    "            'low': 'pants on fire!',\n",
    "        }\n",
    "        for label in y:\n",
    "            for k, v in key.items():\n",
    "                if label == k:\n",
    "                    label = v.title()\n",
    "\n",
    "            yield label.title()\n",
    "\n",
    "    default_cp = [\"#9b59b6\", \"#3498db\", \"#95a5a6\", \"#e74c3c\", \"#34495e\", \"#2ecc71\"]\n",
    "    pol_colors = [\"#9c3229\", \"#C8493A\", \"#D6837F\", \"#DCDDDD\", \"#98B5C6\", \"#6398C9\", \"#3F76BB\"]\n",
    "    acc_colors = [\"#444784\", \"#2F7589\", \"#29A181\", \"#7CCB58\"]\n",
    "    char_colors = [\"#444784\", \"#7CCB58\", \"#3976C5\", \"#02B97C\", \"#C8493A\"]\n",
    "\n",
    "    print()\n",
    "\n",
    "    max_val = max([v for k, v in results_.items() if k != 'n_words'])\n",
    "    print(max_val)\n",
    "    print()\n",
    "\n",
    "    def make_fig(x, y, cat, colors='coolwarm_r'):\n",
    "        color_p = default_cp\n",
    "        if cat == \"Political\":\n",
    "            color_p = pol_colors\n",
    "        elif cat == \"Accuracy\":\n",
    "            color_p = acc_colors\n",
    "        elif cat == \"Character\":\n",
    "            color_p = char_colors\n",
    "\n",
    "        y = list(label_cleaner(y))\n",
    "\n",
    "        plt.figure(figsize=(8, 8))\n",
    "        y_pos = np.arange(len(y))\n",
    "        x = np.asarray(x)\n",
    "        # g = sns.barplot(y=y_pos, x=x, palette=(sns.color_palette(color_p)), orient='h', saturation=.9)\n",
    "        \"\"\"\n",
    "        \n",
    "        \"\"\"\n",
    "        font = {'family' : 'normal',\n",
    "        'weight' : 'normal',\n",
    "        'size'   : 14}\n",
    "\n",
    "        matplotlib.rc('font', **font)\n",
    "        g = plt.barh(y_pos, x, color = color_p)\n",
    "        \n",
    "        plt.yticks(y_pos, y)\n",
    "        plt.title('{} - {}'.format(url, cat))\n",
    "        plt.xlabel('Neural network estimation',fontsize='medium')\n",
    "\n",
    "        plt.xlim(0, max_val)\n",
    "        \n",
    "        fname = '{}.png'.format(name_clean + '_' + cat)\n",
    "        \n",
    "        \n",
    "        \"\"\"\"\"\"\n",
    "        plt.show();\n",
    "        return\n",
    "        \"\"\"\"\"\"\n",
    "        \n",
    "        \n",
    "        from io import BytesIO\n",
    "        img_buffer = BytesIO()        \n",
    "        plt.savefig(img_buffer, format='png', bbox_inches='tight', dpi=100)\n",
    "        plt.clf()\n",
    "\n",
    "        img_buffer.seek(0)  # rewind to beginning of file\n",
    "        to_s3(img_buffer, fname)\n",
    "\n",
    "    def to_s3(png, fname):\n",
    "\n",
    "        s3 = boto3.resource('s3')\n",
    "        bucket = s3.Bucket('fakenewsimg')\n",
    "        bucket.upload_fileobj(png, fname)\n",
    "        \n",
    "        \n",
    "    \n",
    "        \n",
    "        \n",
    "    get_spectrum(\n",
    "        ['extreme right', 'right', 'right-center', 'center', 'left-center', 'left', 'extreme left'],\n",
    "        'Political', 'policic_colors')\n",
    "\n",
    "    get_spectrum(['very high', 'high', 'mixed', 'low', 'unreliable'], 'Accuracy', 'veracity_colors')\n",
    "    plt.close('all')\n",
    "\n",
    "    get_spectrum(['conspiracy', 'fake news', 'propaganda', 'pro-science', 'satire', 'hate'], 'Character',\n",
    "                 'charachter_colors')\n",
    "\n",
    "    print('Plotting finished')"
   ]
  },
  {
   "cell_type": "code",
   "execution_count": 33,
   "metadata": {},
   "outputs": [
    {
     "name": "stdout",
     "output_type": "stream",
     "text": [
      "{'satire': 0.023235, 'conspiracy': 0.036079, 'low': 0.006344, 'propaganda': 0.011925, 'right': 0.151564, 'right-center': 0.062835, 'high': 0.29368, 'mixed': 0.293917, 'extreme right': 0.013205, 'center': 0.017353, 'left-center': 0.101551, 'extreme left': 0.001491, 'left': 0.069697, 'fake news': 0.026105, 'pro-science': 0.001237, 'very high': 0.002354, 'hate': 0.002538}\n",
      "\n",
      "0.293917\n",
      "\n"
     ]
    },
    {
     "name": "stderr",
     "output_type": "stream",
     "text": [
      "/usr/local/lib/python3.5/dist-packages/matplotlib/font_manager.py:1316: UserWarning: findfont: Font family ['normal'] not found. Falling back to DejaVu Sans\n",
      "  (prop.get_family(), self.defaultFamily[fontext]))\n"
     ]
    },
    {
     "data": {
      "image/png": "[encoded data removed]",
      "text/plain": [
       "<matplotlib.figure.Figure at 0x7f810eb64c18>"
      ]
     },
     "metadata": {},
     "output_type": "display_data"
    },
    {
     "data": {
      "image/png": "[encoded data removed]",
      "text/plain": [
       "<matplotlib.figure.Figure at 0x7f810e555ef0>"
      ]
     },
     "metadata": {},
     "output_type": "display_data"
    },
    {
     "data": {
      "image/png": "[encoded data removed]",
      "text/plain": [
       "<matplotlib.figure.Figure at 0x7f810e56e4a8>"
      ]
     },
     "metadata": {},
     "output_type": "display_data"
    },
    {
     "name": "stdout",
     "output_type": "stream",
     "text": [
      "Plotting finished\n"
     ]
    }
   ],
   "source": [
    "if __name__ == '__main__':\n",
    "\n",
    "    # plot(' _test_', 'breitbartcom')\n",
    "    plot({\n",
    "        'fake news': 0.026105,\n",
    "        'center': 0.017353,\n",
    "        'left': 0.069697,\n",
    "        'extreme left': 0.001491,\n",
    "        'mixed': 0.293917,\n",
    "        'low': 0.006344,\n",
    "        'right-center': 0.062835,\n",
    "        'propaganda': 0.011925,\n",
    "        'conspiracy': 0.036079,\n",
    "        'hate': 0.002538,\n",
    "        'high': 0.29368,\n",
    "        'satire': 0.023235,\n",
    "        'extreme right': 0.013205,\n",
    "        'very high': 0.002354,\n",
    "        'pro-science': 0.001237,\n",
    "        'left-center': 0.101551,\n",
    "        'right': 0.151564\n",
    "    }, 'rad.com', 'rad.com')"
   ]
  },
  {
   "cell_type": "code",
   "execution_count": null,
   "metadata": {},
   "outputs": [],
   "source": []
  },
  {
   "cell_type": "code",
   "execution_count": null,
   "metadata": {},
   "outputs": [],
   "source": []
  },
  {
   "cell_type": "code",
   "execution_count": null,
   "metadata": {},
   "outputs": [],
   "source": []
  },
  {
   "cell_type": "code",
   "execution_count": null,
   "metadata": {},
   "outputs": [],
   "source": []
  },
  {
   "cell_type": "code",
   "execution_count": null,
   "metadata": {},
   "outputs": [],
   "source": []
  }
 ],
 "metadata": {
  "kernelspec": {
   "display_name": "Python 3",
   "language": "python",
   "name": "python3"
  },
  "language_info": {
   "codemirror_mode": {
    "name": "ipython",
    "version": 3
   },
   "file_extension": ".py",
   "mimetype": "text/x-python",
   "name": "python",
   "nbconvert_exporter": "python",
   "pygments_lexer": "ipython3",
   "version": "3.5.2"
  }
 },
 "nbformat": 4,
 "nbformat_minor": 2
}
